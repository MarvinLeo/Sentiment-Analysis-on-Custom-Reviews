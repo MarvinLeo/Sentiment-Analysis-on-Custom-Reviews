{
 "cells": [
  {
   "cell_type": "code",
   "execution_count": 7,
   "metadata": {
    "collapsed": false
   },
   "outputs": [
    {
     "name": "stdout",
     "output_type": "stream",
     "text": [
      "[u'listing_id', u'interest_level', u'display_address', u'description', u'created', u'price', u'bedrooms', u'longitude', u'photos', u'manager_id', u'latitude', u'bathrooms', u'building_id', u'street_address', u'features']\n",
      "size of train data is: (49352, 15)\n",
      "raw features are: listing_id interest_level display_address description created price bedrooms longitude photos manager_id latitude bathrooms building_id street_address features \n",
      "7585\n"
     ]
    }
   ],
   "source": [
    "import json\n",
    "import pandas as pd\n",
    "from sklearn.preprocessing import LabelEncoder\n",
    "\n",
    "f = open('train.json', 'r')\n",
    "train = json.load(f)\n",
    "f.close()\n",
    "\n",
    "colnames = train.keys()\n",
    "\n",
    "train_data = pd.DataFrame()\n",
    "print colnames\n",
    "#print train[colnames[2]].keys()\n",
    "\n",
    "for name in colnames:\n",
    "\n",
    "    df = pd.DataFrame.from_dict(train[name], 'index')\n",
    "    if df.shape[1] == 1:\n",
    "        df.columns = [name]\n",
    "    else:\n",
    "        df = pd.DataFrame(train[name].items())\n",
    "        df.set_index(0, inplace=True)\n",
    "        df.columns = [name]\n",
    "    #print name, \":\", df.shape\n",
    "    if train_data is None:\n",
    "        train_data = df\n",
    "    train_data = pd.concat([train_data, df], axis=1)\n",
    "#train_data.to_csv('train_data.csv', encoding='utf-8')\n",
    "\n",
    "# for name in train_data.columns:\n",
    "#     lack=sum(pd.isnull(train_data[name]))\n",
    "#     print name, \":\", lack\n",
    "# print train_data['features_0'][:10]\n",
    "\n",
    "#print train_data.head()\n",
    "print \"size of train data is:\", train_data.shape\n",
    "print \"raw features are:\",\n",
    "for item in train_data.columns:\n",
    "    print item,\n",
    "le = LabelEncoder()\n",
    "train_data['label'] = le.fit_transform(train_data['interest_level'])\n",
    "print \"\\n\", len(set(train_data['building_id']))"
   ]
  },
  {
   "cell_type": "code",
   "execution_count": 44,
   "metadata": {
    "collapsed": false
   },
   "outputs": [
    {
     "name": "stdout",
     "output_type": "stream",
     "text": [
      "                                                   photos  label\n",
      "0                                                               \n",
      "110554  [https://photos.renthop.com/2/6818139_a50e80ff...      2\n",
      "11542   [https://photos.renthop.com/2/7088908_f931ca0d...      2\n",
      "11543   [https://photos.renthop.com/2/7122047_de461dbe...      0\n",
      "11540   [https://photos.renthop.com/2/7169671_c5963a80...      1\n",
      "11541   [https://photos.renthop.com/2/7168565_617723df...      2 <class 'pandas.core.frame.DataFrame'> (49352, 2)\n"
     ]
    }
   ],
   "source": [
    "photo_df = pd.DataFrame(train_data[['photos', 'label']])\n",
    "print photo_df.head(), type(photo_df), photo_df.shape"
   ]
  },
  {
   "cell_type": "code",
   "execution_count": 38,
   "metadata": {
    "collapsed": false
   },
   "outputs": [],
   "source": [
    "photo_df['length'] = map(len, photo_df['photos'])"
   ]
  },
  {
   "cell_type": "code",
   "execution_count": null,
   "metadata": {
    "collapsed": true
   },
   "outputs": [],
   "source": []
  }
 ],
 "metadata": {
  "kernelspec": {
   "display_name": "Python 2",
   "language": "python",
   "name": "python2"
  },
  "language_info": {
   "codemirror_mode": {
    "name": "ipython",
    "version": 2
   },
   "file_extension": ".py",
   "mimetype": "text/x-python",
   "name": "python",
   "nbconvert_exporter": "python",
   "pygments_lexer": "ipython2",
   "version": "2.7.12"
  }
 },
 "nbformat": 4,
 "nbformat_minor": 0
}
